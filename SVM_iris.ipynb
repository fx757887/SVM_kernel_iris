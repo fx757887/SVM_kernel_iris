{
 "cells": [
  {
   "cell_type": "code",
   "execution_count": null,
   "id": "fitting-straight",
   "metadata": {},
   "outputs": [],
   "source": []
  },
  {
   "cell_type": "code",
   "execution_count": 1,
   "id": "partial-cherry",
   "metadata": {},
   "outputs": [],
   "source": [
    "import numpy as np\n",
    "import matplotlib.pyplot as plt\n",
    "%matplotlib inline"
   ]
  },
  {
   "cell_type": "code",
   "execution_count": 5,
   "id": "instructional-palestinian",
   "metadata": {},
   "outputs": [],
   "source": [
    "from sklearn import datasets\n",
    "\n",
    "iris=datasets.load_iris()\n",
    "X=iris.data\n",
    "y=iris.target"
   ]
  },
  {
   "cell_type": "code",
   "execution_count": 7,
   "id": "native-class",
   "metadata": {},
   "outputs": [],
   "source": [
    "from sklearn.model_selection import train_test_split\n",
    "X_train, X_test, y_train, y_test=train_test_split(X, y, test_size=0.25, random_state=3)"
   ]
  },
  {
   "cell_type": "code",
   "execution_count": 10,
   "id": "focused-douglas",
   "metadata": {},
   "outputs": [],
   "source": [
    "from sklearn.svm import SVC\n",
    "\n",
    "model_linear=SVC(kernel=\"linear\")\n",
    "model_poly=SVC(kernel=\"poly\")\n",
    "model_rbf=SVC(kernel=\"rbf\")\n",
    "model_sigmoid=SVC(kernel=\"sigmoid\")"
   ]
  },
  {
   "cell_type": "code",
   "execution_count": 11,
   "id": "nominated-latter",
   "metadata": {},
   "outputs": [
    {
     "data": {
      "text/plain": [
       "SVC(kernel='sigmoid')"
      ]
     },
     "execution_count": 11,
     "metadata": {},
     "output_type": "execute_result"
    }
   ],
   "source": [
    "##Study\n",
    "model_linear.fit(X_train, y_train)\n",
    "model_poly.fit(X_train, y_train)\n",
    "model_rbf.fit(X_train, y_train)\n",
    "model_sigmoid.fit(X_train, y_train)"
   ]
  },
  {
   "cell_type": "code",
   "execution_count": 17,
   "id": "coordinated-insider",
   "metadata": {},
   "outputs": [
    {
     "name": "stdout",
     "output_type": "stream",
     "text": [
      "pred_linear 0.9736842105263158\n"
     ]
    }
   ],
   "source": [
    "from sklearn import metrics\n",
    "\n",
    "##Predict\n",
    "pred_linear=model_linear.predict(X_test)\n",
    "\n",
    "print(\"pred_linear\",metrics.accuracy_score(pred_linear, y_test))"
   ]
  },
  {
   "cell_type": "code",
   "execution_count": 21,
   "id": "single-level",
   "metadata": {},
   "outputs": [
    {
     "name": "stdout",
     "output_type": "stream",
     "text": [
      "pred_poly 0.9473684210526315\n"
     ]
    }
   ],
   "source": [
    "pred_poly=model_poly.predict(X_test)\n",
    "print(\"pred_poly\",metrics.accuracy_score(pred_poly, y_test))"
   ]
  },
  {
   "cell_type": "code",
   "execution_count": 22,
   "id": "south-dynamics",
   "metadata": {},
   "outputs": [
    {
     "name": "stdout",
     "output_type": "stream",
     "text": [
      "pred_poly 0.9736842105263158\n"
     ]
    }
   ],
   "source": [
    "pred_rbf=model_rbf.predict(X_test)\n",
    "print(\"pred_poly\",metrics.accuracy_score(pred_rbf, y_test))"
   ]
  },
  {
   "cell_type": "code",
   "execution_count": 24,
   "id": "pleasant-recording",
   "metadata": {},
   "outputs": [
    {
     "name": "stdout",
     "output_type": "stream",
     "text": [
      "pred_sigmoid 0.2894736842105263\n"
     ]
    }
   ],
   "source": [
    "pred_sigmoid=model_sigmoid.predict(X_test)\n",
    "print(\"pred_sigmoid\",metrics.accuracy_score(pred_sigmoid, y_test))"
   ]
  },
  {
   "cell_type": "code",
   "execution_count": 25,
   "id": "atmospheric-panama",
   "metadata": {},
   "outputs": [
    {
     "name": "stdout",
     "output_type": "stream",
     "text": [
      "pred_linear 0.9736842105263158\n",
      "pred_poly 0.9473684210526315\n",
      "pred_poly 0.9736842105263158\n",
      "pred_sigmoid 0.2894736842105263\n"
     ]
    }
   ],
   "source": [
    "print(\"pred_linear\",metrics.accuracy_score(pred_linear, y_test))\n",
    "print(\"pred_poly\",metrics.accuracy_score(pred_poly, y_test))\n",
    "print(\"pred_poly\",metrics.accuracy_score(pred_rbf, y_test))\n",
    "print(\"pred_sigmoid\",metrics.accuracy_score(pred_sigmoid, y_test))"
   ]
  },
  {
   "cell_type": "code",
   "execution_count": null,
   "id": "completed-thousand",
   "metadata": {},
   "outputs": [],
   "source": []
  }
 ],
 "metadata": {
  "kernelspec": {
   "display_name": "Python 3",
   "language": "python",
   "name": "python3"
  },
  "language_info": {
   "codemirror_mode": {
    "name": "ipython",
    "version": 3
   },
   "file_extension": ".py",
   "mimetype": "text/x-python",
   "name": "python",
   "nbconvert_exporter": "python",
   "pygments_lexer": "ipython3",
   "version": "3.8.3"
  }
 },
 "nbformat": 4,
 "nbformat_minor": 5
}
